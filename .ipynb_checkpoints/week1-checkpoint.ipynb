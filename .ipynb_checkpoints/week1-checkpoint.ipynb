{
 "cells": [
  {
   "cell_type": "markdown",
   "metadata": {},
   "source": [
    "# Three classic encripted messages with increasing security\n",
    "\n",
    "\n",
    "\n",
    "## 1 - A monoalpgabetical cipher\n",
    "\n",
    "The first one \"msg1\" is the result of applying a simple mono-alphabetic transformation.\n",
    "\n",
    "Statistics for the occurence of each character in textes of this kind (potuguese) are given by the dictionary PTstats\n",
    "\n",
    "### Before executing *anything* you need to obtain a file named \"work??.py\" and rename it as \"data.py\"."
   ]
  },
  {
   "cell_type": "code",
   "execution_count": 107,
   "metadata": {
    "scrolled": false
   },
   "outputs": [
    {
     "data": {
      "image/png": "[encoded data removed]",
      "text/plain": [
       "Graphics object consisting of 1 graphics primitive"
      ]
     },
     "metadata": {},
     "output_type": "display_data"
    },
    {
     "name": "stdout",
     "output_type": "stream",
     "text": [
      " dicionario de frequencia em portugues :  {'a': 0.138583183016512, 'e': 0.120706257804912, 'o': 0.108550992091023, 's': 0.0782698765089496, 'i': 0.0698455668100458, 'r': 0.069451089218815, 'd': 0.0558000555015957, 'n': 0.0538477868738726, 't': 0.0495047870126266, 'c': 0.0447716109338143, 'm': 0.0414230609130012, 'u': 0.0385138060219231, 'p': 0.0291236298043569, 'l': 0.0286513112251977, 'v': 0.0133593728319689, 'g': 0.0126298043568753, 'f': 0.010520743721382, 'b': 0.00992854169557375, 'q': 0.00836325794366588, 'h': 0.00713098376578327, 'j': 0.00352573886499237, 'z': 0.0032743166366033, 'x': 0.00240197030664632, 'k': 0.000818787290134591, 'y': 0.000539614263910087, 'w': 0.000463854585819342} \n",
      "\n",
      "\n",
      " dicionario com margin de erro :  {'c': 'e', 'g': 'a', 'n': 'o', 'a': 'lv', 'i': 'pmu', 'm': 'rsi', 'p': 'dnt', 's': 'sir', 'v': 'isr', 'x': 'ndtc', 'f': 'cntmu', 'l': 'utcmp', 'u': 'utcmp', 'o': 'tdncmu', 'k': 'vlgfbqh', 'y': 'gvfbqhjz', 'd': 'wbqhjzxky', 'j': 'fvgbqhjzx', 't': 'wbqhjzxky', 'z': 'wbqhjzxky', 'b': 'xfbqhjzkyw', 'e': 'xfbqhjzkyw', 'w': 'xfbqhjzkyw', 'h': 'qvgfbhjzxkyw', 'q': 'hvgfbqjzxkyw', 'r': 'qvgfbhjzxkyw'} \n",
      "\n",
      "\n",
      "MSG : nogfmlgvxgvxglncvuxmpgvagsgncojgmtgpnspnmcocxgjpgiigvgickgigvkfgigglcmfglgnmsgrumgxgpcqcmoacpmsghucssgfcsscvfsccfsgqgsfnpnvnvlnojgfcvnycomxmvonglgjnuxgnscvanxpcogvycomxmvfgvglfugmvrucsclnspgogviufgvpcsugpnvgxnvcygigopnrucgmxpgygifgygbcsxgmhugipgpcpcpmscmfnvcxfscnknococgouikcsxgnygbvcxfmpncvcsycomxmvfgxnvgxnvlnonvccsgxnvgxnvlnocxfgognlgvmgnxgnvcsqmuxncxfgxfnagsgpmvlufmsvcgrucicfmanpcaclgrucvcscansfgguogcvlsgqmpgngxglsnxmlgpgouikcsygbgmxpgvcxfmpnnuvcxuoggifusgcorucvcygigpclsmvcpnycomxmvoncmoansfgxfcgmxpgygigscocogxlmaglgnpgouikcskascagsgxpngnycxvmqgfcsscvfscgimgpnvjnojgspcgsgogmikgwuegmfmgxgpcygdwgiglcoruminocfsnvgvuipglmpgpcpnwuegmflnojnojgvpcvcfcfnxcigpgvknomxmvfsnlkmxcvpnvcvfsgxhcmsnvrmgxrmlkcxglfugiocxfccoansfuhgiacpcgegvkmxhfnxagsgrucxgnsczcmfcnaigxnhnsjgflknqnvgiuxnvpgascagsgfnsmgagpscjgsfninocupchuvognscfnogsgonxfcogvguigvcoschmocxnsogigacvgspgvnjsgvcolusvnanmvgpmscllgnschmnxgipccpulglgnpcimvjnglnxvmpcsnumoanvvmqcigscpulgnlussmluigspclmpmpgacinlnxvciknpmsclfmqnagsgogshgsmpgscmvpnl \n",
      "\n",
      "\n",
      "{'c': 'e', 'g': 'a', 'n': 'o', 'a': 'l', 'i': 'm', 'm': 'r', 's': '_', 'v': '_', 'p': '_', 'x': '_', 'f': '_', 'l': '_', 'u': '_', 'o': '_', 'k': '_', 'y': '_', 'd': '_', 'j': '_', 't': '_', 'z': '_', 'b': '_', 'e': '_', 'w': '_', 'h': '_', 'q': '_', 'r': '_'}\n",
      "o_a_r_a__a__a_oe___r_a_la_aoe__ar_a_o__ore_e_a__amma_ame_ama___amaa_er_a_aor_a__ra_a_e_er_le_r_a__e__a_e__e___ee__a_a__o_o_o__o__a_e_o_e_r_r__oa_a_o__ao_e_lo__e_a__e_r_r__a_a___ar___e_e_o__a_a_m__a__e__a_o_a_o_e_ama__o__ear__a_am_a_a_e__ar__am_a_e_e_r_er_o_e___eo_o_e_ea__m_e__ao_a__e__r_oe_e__e_r_r__a_o_a_o__o_o_ee_a_o_a_o__o_e__a_ao_a_rao_ao_e__r__oe__a__ola_a_r____r__ea__eme_rlo_ele_a__e_e_elo__aa__ae___a_r_aoa_a__o_r_a_a__m_e__a_ar__a_e__r_oo__e___aam___ae___e_e_ama_e__r_e_o_e_r_r__oer_lo__a__ear__a_ama_e_e_a__rla_ao_a__m_e__l_ela_a__oao_e__r_a_e__e___eamra_o__o__a__ea_a_arm_a___ar_ra_a_e_a__ama_e___rmo_e__o_a__m_a_r_a_e_o___ar__o__o__a__e_e_e_o_ema_a__o_r_r___o__r_e__o_e___a__er_o__ra__r__e_a___am_e__ee_lo____amle_ea_a__r___o_la_a__e_ao_e_er_eolma_o_o__a___o_o_am__o__al_ela_a_o_rala__e_a__omo_e__e____ao_e_o_a_a_o__e_a_a_ma_e__e_r_e_o__amale_a__a_o__a_e_____olor_a_r_e__ao_e_ro_am_ee___a_ao_emr__oa_o__r_e_o_r_lo__r_ema_e___ao____r__ma__e_r_r_alemo_o__em_o_r_e__r_ola_a_a__a_r_a_er__o_ \n",
      "\n",
      "{'c': 'e', 'g': 'a', 'n': 'o', 'a': 'l', 'i': 'm', 'm': 's', 's': '_', 'v': '_', 'p': '_', 'x': '_', 'f': '_', 'l': '_', 'u': '_', 'o': '_', 'k': '_', 'y': '_', 'd': '_', 'j': '_', 't': '_', 'z': '_', 'b': '_', 'e': '_', 'w': '_', 'h': '_', 'q': '_', 'r': '_'}\n",
      "o_a_s_a__a__a_oe___s_a_la_aoe__as_a_o__ose_e_a__amma_ame_ama___amaa_es_a_aos_a__sa_a_e_es_le_s_a__e__a_e__e___ee__a_a__o_o_o__o__a_e_o_e_s_s__oa_a_o__ao_e_lo__e_a__e_s_s__a_a___as___e_e_o__a_a_m__a__e__a_o_a_o_e_ama__o__eas__a_am_a_a_e__as__am_a_e_e_s_es_o_e___eo_o_e_ea__m_e__ao_a__e__s_oe_e__e_s_s__a_o_a_o__o_o_ee_a_o_a_o__o_e__a_ao_a_sao_ao_e__s__oe__a__ola_a_s____s__ea__eme_slo_ele_a__e_e_elo__aa__ae___a_s_aoa_a__o_s_a_a__m_e__a_as__a_e__s_oo__e___aam___ae___e_e_ama_e__s_e_o_e_s_s__oes_lo__a__eas__a_ama_e_e_a__sla_ao_a__m_e__l_ela_a__oao_e__s_a_e__e___eamsa_o__o__a__ea_a_asm_a___as_sa_a_e_a__ama_e___smo_e__o_a__m_a_s_a_e_o___as__o__o__a__e_e_e_o_ema_a__o_s_s___o__s_e__o_e___a__es_o__sa__s__e_a___am_e__ee_lo____amle_ea_a__s___o_la_a__e_ao_e_es_eolma_o_o__a___o_o_am__o__al_ela_a_o_sala__e_a__omo_e__e____ao_e_o_a_a_o__e_a_a_ma_e__e_s_e_o__amale_a__a_o__a_e_____olos_a_s_e__ao_e_so_am_ee___a_ao_ems__oa_o__s_e_o_s_lo__s_ema_e___ao____s__ma__e_s_s_alemo_o__em_o_s_e__s_ola_a_a__a_s_a_es__o_ \n",
      "\n",
      "{'c': 'e', 'g': 'a', 'n': 'o', 'a': 'l', 'i': 'm', 'm': 'i', 's': '_', 'v': '_', 'p': '_', 'x': '_', 'f': '_', 'l': '_', 'u': '_', 'o': '_', 'k': '_', 'y': '_', 'd': '_', 'j': '_', 't': '_', 'z': '_', 'b': '_', 'e': '_', 'w': '_', 'h': '_', 'q': '_', 'r': '_'}\n",
      "o_a_i_a__a__a_oe___i_a_la_aoe__ai_a_o__oie_e_a__amma_ame_ama___amaa_ei_a_aoi_a__ia_a_e_ei_le_i_a__e__a_e__e___ee__a_a__o_o_o__o__a_e_o_e_i_i__oa_a_o__ao_e_lo__e_a__e_i_i__a_a___ai___e_e_o__a_a_m__a__e__a_o_a_o_e_ama__o__eai__a_am_a_a_e__ai__am_a_e_e_i_ei_o_e___eo_o_e_ea__m_e__ao_a__e__i_oe_e__e_i_i__a_o_a_o__o_o_ee_a_o_a_o__o_e__a_ao_a_iao_ao_e__i__oe__a__ola_a_i____i__ea__eme_ilo_ele_a__e_e_elo__aa__ae___a_i_aoa_a__o_i_a_a__m_e__a_ai__a_e__i_oo__e___aam___ae___e_e_ama_e__i_e_o_e_i_i__oei_lo__a__eai__a_ama_e_e_a__ila_ao_a__m_e__l_ela_a__oao_e__i_a_e__e___eamia_o__o__a__ea_a_aim_a___ai_ia_a_e_a__ama_e___imo_e__o_a__m_a_i_a_e_o___ai__o__o__a__e_e_e_o_ema_a__o_i_i___o__i_e__o_e___a__ei_o__ia__i__e_a___am_e__ee_lo____amle_ea_a__i___o_la_a__e_ao_e_ei_eolma_o_o__a___o_o_am__o__al_ela_a_o_iala__e_a__omo_e__e____ao_e_o_a_a_o__e_a_a_ma_e__e_i_e_o__amale_a__a_o__a_e_____oloi_a_i_e__ao_e_io_am_ee___a_ao_emi__oa_o__i_e_o_i_lo__i_ema_e___ao____i__ma__e_i_i_alemo_o__em_o_i_e__i_ola_a_a__a_i_a_ei__o_ \n",
      "\n",
      "{'c': 'e', 'g': 'a', 'n': 'o', 'a': 'l', 'i': 'u', 'm': 'r', 's': '_', 'v': '_', 'p': '_', 'x': '_', 'f': '_', 'l': '_', 'u': '_', 'o': '_', 'k': '_', 'y': '_', 'd': '_', 'j': '_', 't': '_', 'z': '_', 'b': '_', 'e': '_', 'w': '_', 'h': '_', 'q': '_', 'r': '_'}\n",
      "o_a_r_a__a__a_oe___r_a_la_aoe__ar_a_o__ore_e_a__auua_aue_aua___auaa_er_a_aor_a__ra_a_e_er_le_r_a__e__a_e__e___ee__a_a__o_o_o__o__a_e_o_e_r_r__oa_a_o__ao_e_lo__e_a__e_r_r__a_a___ar___e_e_o__a_a_u__a__e__a_o_a_o_e_aua__o__ear__a_au_a_a_e__ar__au_a_e_e_r_er_o_e___eo_o_e_ea__u_e__ao_a__e__r_oe_e__e_r_r__a_o_a_o__o_o_ee_a_o_a_o__o_e__a_ao_a_rao_ao_e__r__oe__a__ola_a_r____r__ea__eue_rlo_ele_a__e_e_elo__aa__ae___a_r_aoa_a__o_r_a_a__u_e__a_ar__a_e__r_oo__e___aau___ae___e_e_aua_e__r_e_o_e_r_r__oer_lo__a__ear__a_aua_e_e_a__rla_ao_a__u_e__l_ela_a__oao_e__r_a_e__e___eaura_o__o__a__ea_a_aru_a___ar_ra_a_e_a__aua_e___ruo_e__o_a__u_a_r_a_e_o___ar__o__o__a__e_e_e_o_eua_a__o_r_r___o__r_e__o_e___a__er_o__ra__r__e_a___au_e__ee_lo____aule_ea_a__r___o_la_a__e_ao_e_er_eolua_o_o__a___o_o_au__o__al_ela_a_o_rala__e_a__ouo_e__e____ao_e_o_a_a_o__e_a_a_ua_e__e_r_e_o__auale_a__a_o__a_e_____olor_a_r_e__ao_e_ro_au_ee___a_ao_eur__oa_o__r_e_o_r_lo__r_eua_e___ao____r__ua__e_r_r_aleuo_o__eu_o_r_e__r_ola_a_a__a_r_a_er__o_ \n",
      "\n",
      "{'c': 'e', 'g': 'a', 'n': 'o', 'a': 'l', 'i': 'u', 'm': 's', 's': '_', 'v': '_', 'p': '_', 'x': '_', 'f': '_', 'l': '_', 'u': '_', 'o': '_', 'k': '_', 'y': '_', 'd': '_', 'j': '_', 't': '_', 'z': '_', 'b': '_', 'e': '_', 'w': '_', 'h': '_', 'q': '_', 'r': '_'}\n",
      "o_a_s_a__a__a_oe___s_a_la_aoe__as_a_o__ose_e_a__auua_aue_aua___auaa_es_a_aos_a__sa_a_e_es_le_s_a__e__a_e__e___ee__a_a__o_o_o__o__a_e_o_e_s_s__oa_a_o__ao_e_lo__e_a__e_s_s__a_a___as___e_e_o__a_a_u__a__e__a_o_a_o_e_aua__o__eas__a_au_a_a_e__as__au_a_e_e_s_es_o_e___eo_o_e_ea__u_e__ao_a__e__s_oe_e__e_s_s__a_o_a_o__o_o_ee_a_o_a_o__o_e__a_ao_a_sao_ao_e__s__oe__a__ola_a_s____s__ea__eue_slo_ele_a__e_e_elo__aa__ae___a_s_aoa_a__o_s_a_a__u_e__a_as__a_e__s_oo__e___aau___ae___e_e_aua_e__s_e_o_e_s_s__oes_lo__a__eas__a_aua_e_e_a__sla_ao_a__u_e__l_ela_a__oao_e__s_a_e__e___eausa_o__o__a__ea_a_asu_a___as_sa_a_e_a__aua_e___suo_e__o_a__u_a_s_a_e_o___as__o__o__a__e_e_e_o_eua_a__o_s_s___o__s_e__o_e___a__es_o__sa__s__e_a___au_e__ee_lo____aule_ea_a__s___o_la_a__e_ao_e_es_eolua_o_o__a___o_o_au__o__al_ela_a_o_sala__e_a__ouo_e__e____ao_e_o_a_a_o__e_a_a_ua_e__e_s_e_o__auale_a__a_o__a_e_____olos_a_s_e__ao_e_so_au_ee___a_ao_eus__oa_o__s_e_o_s_lo__s_eua_e___ao____s__ua__e_s_s_aleuo_o__eu_o_s_e__s_ola_a_a__a_s_a_es__o_ \n",
      "\n",
      "{'c': 'e', 'g': 'a', 'n': 'o', 'a': 'l', 'i': 'u', 'm': 'i', 's': '_', 'v': '_', 'p': '_', 'x': '_', 'f': '_', 'l': '_', 'u': '_', 'o': '_', 'k': '_', 'y': '_', 'd': '_', 'j': '_', 't': '_', 'z': '_', 'b': '_', 'e': '_', 'w': '_', 'h': '_', 'q': '_', 'r': '_'}\n",
      "o_a_i_a__a__a_oe___i_a_la_aoe__ai_a_o__oie_e_a__auua_aue_aua___auaa_ei_a_aoi_a__ia_a_e_ei_le_i_a__e__a_e__e___ee__a_a__o_o_o__o__a_e_o_e_i_i__oa_a_o__ao_e_lo__e_a__e_i_i__a_a___ai___e_e_o__a_a_u__a__e__a_o_a_o_e_aua__o__eai__a_au_a_a_e__ai__au_a_e_e_i_ei_o_e___eo_o_e_ea__u_e__ao_a__e__i_oe_e__e_i_i__a_o_a_o__o_o_ee_a_o_a_o__o_e__a_ao_a_iao_ao_e__i__oe__a__ola_a_i____i__ea__eue_ilo_ele_a__e_e_elo__aa__ae___a_i_aoa_a__o_i_a_a__u_e__a_ai__a_e__i_oo__e___aau___ae___e_e_aua_e__i_e_o_e_i_i__oei_lo__a__eai__a_aua_e_e_a__ila_ao_a__u_e__l_ela_a__oao_e__i_a_e__e___eauia_o__o__a__ea_a_aiu_a___ai_ia_a_e_a__aua_e___iuo_e__o_a__u_a_i_a_e_o___ai__o__o__a__e_e_e_o_eua_a__o_i_i___o__i_e__o_e___a__ei_o__ia__i__e_a___au_e__ee_lo____aule_ea_a__i___o_la_a__e_ao_e_ei_eolua_o_o__a___o_o_au__o__al_ela_a_o_iala__e_a__ouo_e__e____ao_e_o_a_a_o__e_a_a_ua_e__e_i_e_o__auale_a__a_o__a_e_____oloi_a_i_e__ao_e_io_au_ee___a_ao_eui__oa_o__i_e_o_i_lo__i_eua_e___ao____i__ua__e_i_i_aleuo_o__eu_o_i_e__i_ola_a_a__a_i_a_ei__o_ \n",
      "\n",
      "{'c': 'e', 'g': 'a', 'n': 'o', 'a': 'v', 'i': 'm', 'm': 'r', 's': '_', 'v': '_', 'p': '_', 'x': '_', 'f': '_', 'l': '_', 'u': '_', 'o': '_', 'k': '_', 'y': '_', 'd': '_', 'j': '_', 't': '_', 'z': '_', 'b': '_', 'e': '_', 'w': '_', 'h': '_', 'q': '_', 'r': '_'}\n",
      "o_a_r_a__a__a_oe___r_a_va_aoe__ar_a_o__ore_e_a__amma_ame_ama___amaa_er_a_aor_a__ra_a_e_er_ve_r_a__e__a_e__e___ee__a_a__o_o_o__o__a_e_o_e_r_r__oa_a_o__ao_e_vo__e_a__e_r_r__a_a___ar___e_e_o__a_a_m__a__e__a_o_a_o_e_ama__o__ear__a_am_a_a_e__ar__am_a_e_e_r_er_o_e___eo_o_e_ea__m_e__ao_a__e__r_oe_e__e_r_r__a_o_a_o__o_o_ee_a_o_a_o__o_e__a_ao_a_rao_ao_e__r__oe__a__ova_a_r____r__ea__eme_rvo_eve_a__e_e_evo__aa__ae___a_r_aoa_a__o_r_a_a__m_e__a_ar__a_e__r_oo__e___aam___ae___e_e_ama_e__r_e_o_e_r_r__oer_vo__a__ear__a_ama_e_e_a__rva_ao_a__m_e__v_eva_a__oao_e__r_a_e__e___eamra_o__o__a__ea_a_arm_a___ar_ra_a_e_a__ama_e___rmo_e__o_a__m_a_r_a_e_o___ar__o__o__a__e_e_e_o_ema_a__o_r_r___o__r_e__o_e___a__er_o__ra__r__e_a___am_e__ee_vo____amve_ea_a__r___o_va_a__e_ao_e_er_eovma_o_o__a___o_o_am__o__av_eva_a_o_rava__e_a__omo_e__e____ao_e_o_a_a_o__e_a_a_ma_e__e_r_e_o__amave_a__a_o__a_e_____ovor_a_r_e__ao_e_ro_am_ee___a_ao_emr__oa_o__r_e_o_r_vo__r_ema_e___ao____r__ma__e_r_r_avemo_o__em_o_r_e__r_ova_a_a__a_r_a_er__o_ \n",
      "\n",
      "{'c': 'e', 'g': 'a', 'n': 'o', 'a': 'v', 'i': 'm', 'm': 's', 's': '_', 'v': '_', 'p': '_', 'x': '_', 'f': '_', 'l': '_', 'u': '_', 'o': '_', 'k': '_', 'y': '_', 'd': '_', 'j': '_', 't': '_', 'z': '_', 'b': '_', 'e': '_', 'w': '_', 'h': '_', 'q': '_', 'r': '_'}\n",
      "o_a_s_a__a__a_oe___s_a_va_aoe__as_a_o__ose_e_a__amma_ame_ama___amaa_es_a_aos_a__sa_a_e_es_ve_s_a__e__a_e__e___ee__a_a__o_o_o__o__a_e_o_e_s_s__oa_a_o__ao_e_vo__e_a__e_s_s__a_a___as___e_e_o__a_a_m__a__e__a_o_a_o_e_ama__o__eas__a_am_a_a_e__as__am_a_e_e_s_es_o_e___eo_o_e_ea__m_e__ao_a__e__s_oe_e__e_s_s__a_o_a_o__o_o_ee_a_o_a_o__o_e__a_ao_a_sao_ao_e__s__oe__a__ova_a_s____s__ea__eme_svo_eve_a__e_e_evo__aa__ae___a_s_aoa_a__o_s_a_a__m_e__a_as__a_e__s_oo__e___aam___ae___e_e_ama_e__s_e_o_e_s_s__oes_vo__a__eas__a_ama_e_e_a__sva_ao_a__m_e__v_eva_a__oao_e__s_a_e__e___eamsa_o__o__a__ea_a_asm_a___as_sa_a_e_a__ama_e___smo_e__o_a__m_a_s_a_e_o___as__o__o__a__e_e_e_o_ema_a__o_s_s___o__s_e__o_e___a__es_o__sa__s__e_a___am_e__ee_vo____amve_ea_a__s___o_va_a__e_ao_e_es_eovma_o_o__a___o_o_am__o__av_eva_a_o_sava__e_a__omo_e__e____ao_e_o_a_a_o__e_a_a_ma_e__e_s_e_o__amave_a__a_o__a_e_____ovos_a_s_e__ao_e_so_am_ee___a_ao_ems__oa_o__s_e_o_s_vo__s_ema_e___ao____s__ma__e_s_s_avemo_o__em_o_s_e__s_ova_a_a__a_s_a_es__o_ \n",
      "\n",
      "{'c': 'e', 'g': 'a', 'n': 'o', 'a': 'v', 'i': 'm', 'm': 'i', 's': '_', 'v': '_', 'p': '_', 'x': '_', 'f': '_', 'l': '_', 'u': '_', 'o': '_', 'k': '_', 'y': '_', 'd': '_', 'j': '_', 't': '_', 'z': '_', 'b': '_', 'e': '_', 'w': '_', 'h': '_', 'q': '_', 'r': '_'}\n",
      "o_a_i_a__a__a_oe___i_a_va_aoe__ai_a_o__oie_e_a__amma_ame_ama___amaa_ei_a_aoi_a__ia_a_e_ei_ve_i_a__e__a_e__e___ee__a_a__o_o_o__o__a_e_o_e_i_i__oa_a_o__ao_e_vo__e_a__e_i_i__a_a___ai___e_e_o__a_a_m__a__e__a_o_a_o_e_ama__o__eai__a_am_a_a_e__ai__am_a_e_e_i_ei_o_e___eo_o_e_ea__m_e__ao_a__e__i_oe_e__e_i_i__a_o_a_o__o_o_ee_a_o_a_o__o_e__a_ao_a_iao_ao_e__i__oe__a__ova_a_i____i__ea__eme_ivo_eve_a__e_e_evo__aa__ae___a_i_aoa_a__o_i_a_a__m_e__a_ai__a_e__i_oo__e___aam___ae___e_e_ama_e__i_e_o_e_i_i__oei_vo__a__eai__a_ama_e_e_a__iva_ao_a__m_e__v_eva_a__oao_e__i_a_e__e___eamia_o__o__a__ea_a_aim_a___ai_ia_a_e_a__ama_e___imo_e__o_a__m_a_i_a_e_o___ai__o__o__a__e_e_e_o_ema_a__o_i_i___o__i_e__o_e___a__ei_o__ia__i__e_a___am_e__ee_vo____amve_ea_a__i___o_va_a__e_ao_e_ei_eovma_o_o__a___o_o_am__o__av_eva_a_o_iava__e_a__omo_e__e____ao_e_o_a_a_o__e_a_a_ma_e__e_i_e_o__amave_a__a_o__a_e_____ovoi_a_i_e__ao_e_io_am_ee___a_ao_emi__oa_o__i_e_o_i_vo__i_ema_e___ao____i__ma__e_i_i_avemo_o__em_o_i_e__i_ova_a_a__a_i_a_ei__o_ \n",
      "\n",
      "{'c': 'e', 'g': 'a', 'n': 'o', 'a': 'v', 'i': 'u', 'm': 'r', 's': '_', 'v': '_', 'p': '_', 'x': '_', 'f': '_', 'l': '_', 'u': '_', 'o': '_', 'k': '_', 'y': '_', 'd': '_', 'j': '_', 't': '_', 'z': '_', 'b': '_', 'e': '_', 'w': '_', 'h': '_', 'q': '_', 'r': '_'}\n",
      "o_a_r_a__a__a_oe___r_a_va_aoe__ar_a_o__ore_e_a__auua_aue_aua___auaa_er_a_aor_a__ra_a_e_er_ve_r_a__e__a_e__e___ee__a_a__o_o_o__o__a_e_o_e_r_r__oa_a_o__ao_e_vo__e_a__e_r_r__a_a___ar___e_e_o__a_a_u__a__e__a_o_a_o_e_aua__o__ear__a_au_a_a_e__ar__au_a_e_e_r_er_o_e___eo_o_e_ea__u_e__ao_a__e__r_oe_e__e_r_r__a_o_a_o__o_o_ee_a_o_a_o__o_e__a_ao_a_rao_ao_e__r__oe__a__ova_a_r____r__ea__eue_rvo_eve_a__e_e_evo__aa__ae___a_r_aoa_a__o_r_a_a__u_e__a_ar__a_e__r_oo__e___aau___ae___e_e_aua_e__r_e_o_e_r_r__oer_vo__a__ear__a_aua_e_e_a__rva_ao_a__u_e__v_eva_a__oao_e__r_a_e__e___eaura_o__o__a__ea_a_aru_a___ar_ra_a_e_a__aua_e___ruo_e__o_a__u_a_r_a_e_o___ar__o__o__a__e_e_e_o_eua_a__o_r_r___o__r_e__o_e___a__er_o__ra__r__e_a___au_e__ee_vo____auve_ea_a__r___o_va_a__e_ao_e_er_eovua_o_o__a___o_o_au__o__av_eva_a_o_rava__e_a__ouo_e__e____ao_e_o_a_a_o__e_a_a_ua_e__e_r_e_o__auave_a__a_o__a_e_____ovor_a_r_e__ao_e_ro_au_ee___a_ao_eur__oa_o__r_e_o_r_vo__r_eua_e___ao____r__ua__e_r_r_aveuo_o__eu_o_r_e__r_ova_a_a__a_r_a_er__o_ \n",
      "\n",
      "{'c': 'e', 'g': 'a', 'n': 'o', 'a': 'v', 'i': 'u', 'm': 's', 's': '_', 'v': '_', 'p': '_', 'x': '_', 'f': '_', 'l': '_', 'u': '_', 'o': '_', 'k': '_', 'y': '_', 'd': '_', 'j': '_', 't': '_', 'z': '_', 'b': '_', 'e': '_', 'w': '_', 'h': '_', 'q': '_', 'r': '_'}\n",
      "o_a_s_a__a__a_oe___s_a_va_aoe__as_a_o__ose_e_a__auua_aue_aua___auaa_es_a_aos_a__sa_a_e_es_ve_s_a__e__a_e__e___ee__a_a__o_o_o__o__a_e_o_e_s_s__oa_a_o__ao_e_vo__e_a__e_s_s__a_a___as___e_e_o__a_a_u__a__e__a_o_a_o_e_aua__o__eas__a_au_a_a_e__as__au_a_e_e_s_es_o_e___eo_o_e_ea__u_e__ao_a__e__s_oe_e__e_s_s__a_o_a_o__o_o_ee_a_o_a_o__o_e__a_ao_a_sao_ao_e__s__oe__a__ova_a_s____s__ea__eue_svo_eve_a__e_e_evo__aa__ae___a_s_aoa_a__o_s_a_a__u_e__a_as__a_e__s_oo__e___aau___ae___e_e_aua_e__s_e_o_e_s_s__oes_vo__a__eas__a_aua_e_e_a__sva_ao_a__u_e__v_eva_a__oao_e__s_a_e__e___eausa_o__o__a__ea_a_asu_a___as_sa_a_e_a__aua_e___suo_e__o_a__u_a_s_a_e_o___as__o__o__a__e_e_e_o_eua_a__o_s_s___o__s_e__o_e___a__es_o__sa__s__e_a___au_e__ee_vo____auve_ea_a__s___o_va_a__e_ao_e_es_eovua_o_o__a___o_o_au__o__av_eva_a_o_sava__e_a__ouo_e__e____ao_e_o_a_a_o__e_a_a_ua_e__e_s_e_o__auave_a__a_o__a_e_____ovos_a_s_e__ao_e_so_au_ee___a_ao_eus__oa_o__s_e_o_s_vo__s_eua_e___ao____s__ua__e_s_s_aveuo_o__eu_o_s_e__s_ova_a_a__a_s_a_es__o_ \n",
      "\n",
      "{'c': 'e', 'g': 'a', 'n': 'o', 'a': 'v', 'i': 'u', 'm': 'i', 's': '_', 'v': '_', 'p': '_', 'x': '_', 'f': '_', 'l': '_', 'u': '_', 'o': '_', 'k': '_', 'y': '_', 'd': '_', 'j': '_', 't': '_', 'z': '_', 'b': '_', 'e': '_', 'w': '_', 'h': '_', 'q': '_', 'r': '_'}\n",
      "o_a_i_a__a__a_oe___i_a_va_aoe__ai_a_o__oie_e_a__auua_aue_aua___auaa_ei_a_aoi_a__ia_a_e_ei_ve_i_a__e__a_e__e___ee__a_a__o_o_o__o__a_e_o_e_i_i__oa_a_o__ao_e_vo__e_a__e_i_i__a_a___ai___e_e_o__a_a_u__a__e__a_o_a_o_e_aua__o__eai__a_au_a_a_e__ai__au_a_e_e_i_ei_o_e___eo_o_e_ea__u_e__ao_a__e__i_oe_e__e_i_i__a_o_a_o__o_o_ee_a_o_a_o__o_e__a_ao_a_iao_ao_e__i__oe__a__ova_a_i____i__ea__eue_ivo_eve_a__e_e_evo__aa__ae___a_i_aoa_a__o_i_a_a__u_e__a_ai__a_e__i_oo__e___aau___ae___e_e_aua_e__i_e_o_e_i_i__oei_vo__a__eai__a_aua_e_e_a__iva_ao_a__u_e__v_eva_a__oao_e__i_a_e__e___eauia_o__o__a__ea_a_aiu_a___ai_ia_a_e_a__aua_e___iuo_e__o_a__u_a_i_a_e_o___ai__o__o__a__e_e_e_o_eua_a__o_i_i___o__i_e__o_e___a__ei_o__ia__i__e_a___au_e__ee_vo____auve_ea_a__i___o_va_a__e_ao_e_ei_eovua_o_o__a___o_o_au__o__av_eva_a_o_iava__e_a__ouo_e__e____ao_e_o_a_a_o__e_a_a_ua_e__e_i_e_o__auave_a__a_o__a_e_____ovoi_a_i_e__ao_e_io_au_ee___a_ao_eui__oa_o__i_e_o_i_vo__i_eua_e___ao____i__ua__e_i_i_aveuo_o__eu_o_i_e__i_ova_a_a__a_i_a_ei__o_ \n",
      "\n"
     ]
    }
   ],
   "source": [
    "import string\n",
    "from data import *\n",
    "dic_list = []\n",
    "#######################################################################################################\n",
    "def aux_tranform_dictionary(dictionary,index,char):\n",
    "    if(char!='_'):\n",
    "        for c in range(0,len(list(dictionary.keys()))):\n",
    "            if index != c :\n",
    "                nnew = \"\"\n",
    "                for x in dictionary[ list(dictionary.keys())[c]]:\n",
    "                    if(x!=char):\n",
    "                        nnew = nnew+x\n",
    "                dictionary[ list(dictionary.keys())[c]] = nnew\n",
    "    return dictionary\n",
    "                    \n",
    "def transform_dictionary(dictionary, index):\n",
    "        if(index==26):\n",
    "            dic_list.append(dictionary)\n",
    "        else:\n",
    "            current_letter = (list(dictionary.keys())[index])\n",
    "            if(len(dictionary[current_letter]) > 1):\n",
    "                for c in dictionary[current_letter]:\n",
    "                    n_dictionary = dictionary.copy()\n",
    "                    n_dictionary[current_letter] = c\n",
    "                    n_dictionary = aux_tranform_dictionary(n_dictionary,index,c)\n",
    "                    transform_dictionary(n_dictionary,index + 1)\n",
    "            else:\n",
    "                dictionary = aux_tranform_dictionary(dictionary,index,dictionary[current_letter])\n",
    "                transform_dictionary(dictionary,index + 1)\n",
    "#######################################################################################################\n",
    "display(bar_chart([Stats[c] for c in string.ascii_lowercase]))\n",
    "#######################################################################################################\n",
    "frequency_number_list = [0] * 26\n",
    "for n in msg1:\n",
    "    frequency_number_list[n-1] = frequency_number_list[n-1] + 1\n",
    "frequency_number_list_sorted  = frequency_number_list.copy()\n",
    "frequency_number_list_sorted.sort(reverse=True)\n",
    "#######################################################################################################\n",
    "frequency_portugese = dict(sorted(Stats.items(), key=lambda item: item[1],reverse=True))\n",
    "frequency_dictionary = dict(zip( list(string.ascii_lowercase) , frequency_number_list))\n",
    "print(\" dicionario de frequencia em portugues : \" ,frequency_portugese,\"\\n\\n\")\n",
    "#######################################################################################################\n",
    "\n",
    "for n in range(0,len(frequency_number_list_sorted)):\n",
    "    if(n<25):\n",
    "        i = n \n",
    "        while(i< 25 and frequency_number_list_sorted[i] == frequency_number_list_sorted[i+1]):\n",
    "            frequency_number_list_sorted[i] = frequency_number_list_sorted[i] + (0.0001 * i)\n",
    "            i=i+1\n",
    "dictionary_direct_translated = dict(zip( frequency_number_list_sorted, list(frequency_portugese.keys())))\n",
    "#print(\"tamanho\",len(dictionary_direct_translated))\n",
    "\n",
    "\n",
    "#######################################################################################################\n",
    "error_margin_dictionary = {}\n",
    "for x in frequency_dictionary.keys():\n",
    "    current_frequency  = frequency_dictionary[x]\n",
    "    error_margin_dictionary[x] = dictionary_direct_translated[current_frequency]\n",
    "    for y in dictionary_direct_translated.keys():\n",
    "        if(abs(current_frequency - y) < 10):\n",
    "            if(dictionary_direct_translated[y] not in error_margin_dictionary[x]):\n",
    "                error_margin_dictionary[x] = error_margin_dictionary[x] + dictionary_direct_translated[y]\n",
    "\n",
    "error_margin_dictionary = (dict(sorted(error_margin_dictionary.items(), key=lambda item: len(item[1]))))\n",
    "print(\" dicionario com margin de erro : \" ,error_margin_dictionary,\"\\n\\n\")\n",
    "\n",
    "#######################################################################################################\n",
    "\n",
    "\n",
    "hard_coded_dictionary = {\n",
    " 'c': 'e', \n",
    " 'g': 'a',\n",
    " 'n': 'o', \n",
    " 'a': 'lv',#lv\n",
    " 'i': 'mu',#pmu\n",
    " 'm': 'rsi',#rsi\n",
    " 's': '_',#sir\n",
    " 'v': '_',#isr \n",
    " 'p': '_',#dnt\n",
    " 'x': '_', #ndtc\n",
    " 'f': 'cntmu',#cntmu\n",
    " 'l': '_',#cntmu\n",
    " 'u': '_',#utcmp\n",
    " 'o': '_', #tdncmu\n",
    " 'k': '_',#vlgfbqh\n",
    " 'y': '_',#gvfbqhjz\n",
    " 'd': '_',# wbqhjzxky\n",
    " 'j': '_',# fvgbqhjzx\n",
    " 't': '_',#wbqhjzxky\n",
    " 'z': '_',# wbqhjzxky\n",
    " 'b': '_',# xfbqhjzkyw\n",
    " 'e': '_',#xfbqhjzkyw\n",
    " 'w': '_', #xfbqhjzkyw\n",
    " 'h': '_',#qvgfbhjzxkyw\n",
    " 'q': '_',#hvgfbqjzxkyw\n",
    " 'r': '_'}#qvgfbhjzxkyw\n",
    "\n",
    "\n",
    "transform_dictionary(hard_coded_dictionary,0)\n",
    "\n",
    "\n",
    "ciphertext = \"\"\n",
    "for c in msg1[ 0: len(msg1): 1]:\n",
    "    ciphertext = ciphertext + list(string.ascii_lowercase)[c-1]\n",
    "    \n",
    "print(\"MSG :\", ciphertext,\"\\n\\n\")  \n",
    "    \n",
    "for dic in dic_list:\n",
    "    print(dic)\n",
    "    ciphertext_list= []\n",
    "    ciphertext_list[:0]=ciphertext\n",
    "    for i in range(0,len(ciphertext_list)):\n",
    "        ciphertext_list[i] = dic[ciphertext_list[i]]\n",
    "    print(''.join(ciphertext_list),\"\\n\")    \n"
   ]
  },
  {
   "cell_type": "markdown",
   "metadata": {},
   "source": [
    "The message was converted to a numerical code: 'a'->1, 'b'->2,..."
   ]
  },
  {
   "cell_type": "markdown",
   "metadata": {},
   "source": [
    "### It should be quite easy to decript this message without almost any programming involved"
   ]
  },
  {
   "cell_type": "markdown",
   "metadata": {},
   "source": [
    "## 2 - A simple Vigenère message"
   ]
  },
  {
   "cell_type": "markdown",
   "metadata": {},
   "source": [
    "In the next message, \"msg2\", a simple Vigènere was used. The \"msg2\" was coded the same manner as \"msg1\". \n",
    "\n",
    "We suggest that you use the Friedman test to determine the period (the size of the key).\n",
    "\n",
    "Friedman proved that, for  a class of cyphers that includes Vigenère, given two (long) texts, $T$ and $T'$, of the same size ($|T|=|T'|$), and with the same coincidence index ($Ic(T)=Ic(T')$),  their correspondent cyphertexts $E(T)$ and $E(T')$ satisfy\n",
    "\n",
    "$$K(T,T')=\\sum_i \\frac{\\delta(E(T)_i,E(T')_i)}{|T|}\\sim Ic(T),$$\n",
    "where\n",
    "\n",
    "$$\\delta(a,b)=\\begin{cases}1& \\text{if }a=b,\\\\\n",
    "             0& \\text{otherwise,}\n",
    "        \\end{cases}$$\n",
    "$T_i$ denotes the $i$th letter of $T$, and $Ic(T)$ the coincidence index of $T$. \n",
    "\n",
    "\n",
    "Thus, if $P^j(T)$ denotes the $j$th circular permutation of $T$, and $C$ is criptogram resulting from applying a periodic cypher of period $p$, the succesion $(K(C,P^i(C))_i$ should have local maximums that differ by exactly $p$. \n",
    "\n",
    "Knowing the period, one can study the statistic of occurences of each $\\{C_{pi+j}\\mid i\\in\\mathbb{N}\\}_{j<p}$ that should be similar to the original statistic of the source message, only affected by the circular permutation corresponging to the acting character of the key used. \n",
    "\n",
    "The carefull observation of the referred statistics an some \"trial & error\" should be enough to crack the criptogram."
   ]
  },
  {
   "cell_type": "code",
   "execution_count": null,
   "metadata": {},
   "outputs": [],
   "source": []
  },
  {
   "cell_type": "markdown",
   "metadata": {},
   "source": [
    "## 3 - A more chalenging Vigenére\n",
    "\n",
    "In \"msg3\" is the result of applying another Vigenère but the result was embedded in a finite field, and thus the order of the original alphabet was not preserved.  "
   ]
  },
  {
   "cell_type": "code",
   "execution_count": null,
   "metadata": {},
   "outputs": [],
   "source": []
  },
  {
   "cell_type": "markdown",
   "metadata": {},
   "source": [
    "### Caution!\n",
    "\n",
    "Because of the relative small size of the criptograms, statistics may be deviant from the general statistics of the language. This means that you need to be careful with conclusions you may be led to infer from the cryptogram statistics."
   ]
  },
  {
   "cell_type": "code",
   "execution_count": null,
   "metadata": {},
   "outputs": [],
   "source": []
  }
 ],
 "metadata": {
  "kernelspec": {
   "display_name": "SageMath 9.2",
   "language": "sage",
   "name": "sagemath"
  },
  "language_info": {
   "codemirror_mode": {
    "name": "ipython",
    "version": 3
   },
   "file_extension": ".py",
   "mimetype": "text/x-python",
   "name": "python",
   "nbconvert_exporter": "python",
   "pygments_lexer": "ipython3",
   "version": "3.7.7"
  }
 },
 "nbformat": 4,
 "nbformat_minor": 4
}
