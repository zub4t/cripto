{
 "cells": [
  {
   "cell_type": "markdown",
   "metadata": {},
   "source": [
    "# Three classic encripted messages with increasing security\n",
    "\n",
    "\n",
    "\n",
    "## 1 - A monoalpgabetical cipher\n",
    "\n",
    "The first one \"msg1\" is the result of applying a simple mono-alphabetic transformation.\n",
    "\n",
    "Statistics for the occurence of each character in textes of this kind (potuguese) are given by the dictionary PTstats\n",
    "\n",
    "### Before executing *anything* you need to obtain a file named \"work??.py\" and rename it as \"data.py\"."
   ]
  },
  {
   "cell_type": "code",
   "execution_count": 12,
   "metadata": {
    "scrolled": false
   },
   "outputs": [
    {
     "name": "stdout",
     "output_type": "stream",
     "text": [
      "xnhyoihqthqthixlqutoahqghvhxlnzhofhaxvaxolnlthzahmmhqhmlwhmhqwyhmhhiloyhihxovhsuohthalrlonglaovhkulvvhylvvlqyvllyvhrhvyxaxqxqixnzhylqxdlnotoqnxhihzxuthxvlqgxtalnhqdlnotoqyhqhiyuhoqsulvlixvahnhqmuyhqalvuhaxqhtxqldhmhnaxsulhotahdhmyhdhjlvthokuhmahalalaovloyxqltyvlxwxnlnlhnumwlvthxdhjqltyoaxlqlvdlnotoqyhtxqhtxqixnxqllvhtxqhtxqixnltyhnhxihqohxthxqlvroutxltyhtyxghvhaoqiuyovqlhsulmlyogxalglihsulqlvlgxvyhhunhlqivhroahxhthivxtoihahnumwlvdhjhotahqltyoaxxuqltunhhmyuvhlnsulqldhmhalivoqlaxdlnotoqnxlongxvyhtylhotahdhmhvlnlnhtioghihxahnumwlvwgvlghvhtaxhxdltqorhylvvlqyvlhmohaxqzxnzhvalhvhnhomwheuchoyohthaldhpehmhilnsuomxnlyvxqhqumahioahalaxeuchoyixnzxnzhqalqlylyxtlmhahqwxnotoqyvxiwotlqaxqlqyvhtklovxqsohtsoiwlthiyuhmnltyllngxvyukhmglalhchqwotkyxtghvhsulthxvlbloylxgmhtxkxvzhyiwxrxqhmutxqahgvlghvhyxvohghavlzhvyxmxnlualkuqnhxvlyxnhvhnxtylnhqhumhqlnvlkonltxvnhmhglqhvahqxzvhqlniuvqxgxoqhaovliihxvlkoxthmallauihihxalmoqzxhixtqoalvxuongxqqorlmhvlauihxiuvvoiumhvalioaoahglmxixtqlmwxaovliyorxghvhnhvkhvoahvloqaxi \n",
      "\n"
     ]
    }
   ],
   "source": [
    "import string\n",
    "from data import *\n",
    "dic_list = []\n",
    "#######################################################################################################\n",
    "\n",
    "#abcdefghijklmnopqrstuvwxyz\n",
    "#gjlpcyhkmzwioxnarsvfuqetdb\n",
    "\n",
    "hard_coded_dictionary =   {'c': 'e',\n",
    "'g': 'a',\n",
    "'n': 'o',\n",
    "'m': 'i',\n",
    "'v': 's',\n",
    "'s': 'r',\n",
    "'f': 't',\n",
    "'i': 'l',\n",
    "'o': 'm',\n",
    "'l': 'c',\n",
    "'u': 'u',\n",
    "'p': 'd',\n",
    "'x': 'n',\n",
    "'a': 'p',\n",
    "'b': 'z',\n",
    "'d': 'y',\n",
    "'e': 'w',\n",
    "'t': 'x',\n",
    "'w': 'k',\n",
    "'z': 'j',\n",
    "'h': 'g',\n",
    "'j': 'b',\n",
    "'k': 'h',\n",
    "'q': 'v',\n",
    "'r': 'q',\n",
    "'y': 'f'}\n",
    "\n",
    "\n",
    "\n",
    "\n",
    "ciphertext_list= []\n",
    "ciphertext_list[:0]=ciphertext\n",
    "for i in range(0,len(ciphertext_list)):\n",
    "    ciphertext_list[i] = hard_coded_dictionary[ciphertext_list[i]]\n",
    "print(''.join(ciphertext_list),\"\\n\")    \n"
   ]
  },
  {
   "cell_type": "markdown",
   "metadata": {},
   "source": [
    "The message was converted to a numerical code: 'a'->1, 'b'->2,..."
   ]
  },
  {
   "cell_type": "markdown",
   "metadata": {},
   "source": [
    "### It should be quite easy to decript this message without almost any programming involved"
   ]
  },
  {
   "cell_type": "markdown",
   "metadata": {},
   "source": [
    "## 2 - A simple Vigenère message"
   ]
  },
  {
   "cell_type": "markdown",
   "metadata": {},
   "source": [
    "In the next message, \"msg2\", a simple Vigènere was used. The \"msg2\" was coded the same manner as \"msg1\". \n",
    "\n",
    "We suggest that you use the Friedman test to determine the period (the size of the key).\n",
    "\n",
    "Friedman proved that, for  a class of cyphers that includes Vigenère, given two (long) texts, $T$ and $T'$, of the same size ($|T|=|T'|$), and with the same coincidence index ($Ic(T)=Ic(T')$),  their correspondent cyphertexts $E(T)$ and $E(T')$ satisfy\n",
    "\n",
    "$$K(T,T')=\\sum_i \\frac{\\delta(E(T)_i,E(T')_i)}{|T|}\\sim Ic(T),$$\n",
    "where\n",
    "\n",
    "$$\\delta(a,b)=\\begin{cases}1& \\text{if }a=b,\\\\\n",
    "             0& \\text{otherwise,}\n",
    "        \\end{cases}$$\n",
    "$T_i$ denotes the $i$th letter of $T$, and $Ic(T)$ the coincidence index of $T$. \n",
    "\n",
    "\n",
    "Thus, if $P^j(T)$ denotes the $j$th circular permutation of $T$, and $C$ is criptogram resulting from applying a periodic cypher of period $p$, the succesion $(K(C,P^i(C))_i$ should have local maximums that differ by exactly $p$. \n",
    "\n",
    "Knowing the period, one can study the statistic of occurences of each $\\{C_{pi+j}\\mid i\\in\\mathbb{N}\\}_{j<p}$ that should be similar to the original statistic of the source message, only affected by the circular permutation corresponging to the acting character of the key used. \n",
    "\n",
    "The carefull observation of the referred statistics an some \"trial & error\" should be enough to crack the criptogram."
   ]
  },
  {
   "cell_type": "code",
   "execution_count": 14,
   "metadata": {
    "scrolled": false
   },
   "outputs": [
    {
     "name": "stdout",
     "output_type": "stream",
     "text": [
      "nlhdnbzzxfrmhmtdrbxnczzzfqzvorazphfcnynthdtoszakkqkzzkqdghvfrgakqzzjonszjkthqhazhzukidulsrodkswzfbowqzaowqdzdwddabfuzydtcnzyxbntlfsdzykdlpxnrlvkhzavesznyoxonunjlzzpjlhusxszzkhsthsxptlbjbnynflzzvzszznjqthntrzuyxdehvflcvazdzpxizehvyzehjjqmhsltzsnfcdkoihqlsynrlxyqdvrtldtofltsrjqmhykzyzosshkyjrdypjlhusxszuyxzmvchnlvcjdqhxtrzuyxbntossztktbzzsfnmhyxdqcszmnlxyzmayuzqhnnrbbdnqrlkvtdsoyhovnjodjkvtdzowdovbyzzbwfdrjbfuhkktzmhmwnmpmfczteqgdypfyzpxizrlxyhcvyzrduerzzsdzqzlwvtdzokzkhnjbqpcjcnmorhmpcrndpwunqakssdhssczmkqzqlwjlzumnozjktczteqgdyruqdwkwzmkyfnelxxhuhdjqqlcyqdhvnzcvcgnlikwcdhbflzpvmzjbgfhspkszclpfxjhvfbdtazhkvwjsqvcfrtsnfbhkkidcvuzvzpdhnliyrazznjrdaoynmlvfczzrtlhusxsqvmmhmlcinrlcyqzuqjhqvcvhzuanbglxfbsbkqldudjdlwywstnkqodkofvzzrnmfaysozykvtduktqdqonsdvzqzmvqtqahdhgncyxzkbxtrchzwdohbfsnysfozkbjazydtkntozcdnexlzvbjsntkwzlvxydlhcftkhcjlqlqnlduywlzskudrhbizrvlwzrlwhtqzyunhzkihqlmhznyolhnukqcdlnzbzjktcdssxanhmtmrpnjqnbsronzcnudskwdcbmfnbbbwhbbvfqclmnchkkudkvmtmrlvmncpbjbspftozykrzqnkwhchbjhrkyh\n",
      "\n",
      "\n",
      " nlhdnbzzxfrmhmtdrbxnczzzfqzvorazphfcnynthdtoszakkqkzzkqdghvfrgakqzzjonszjkthqhazhzukidulsrodkswzfbowqzaowqdzdwddabfuzydtcnzyxbntlfsdzykdlpxnrlvkhzavesznyoxonunjlzzpjlhusxszzkhsthsxptlbjbnynflzzvzszznjqthntrzuyxdehvflcvazdzpxizehvyzehjjqmhsltzsnfcdkoihqlsynrlxyqdvrtldtofltsrjqmhykzyzosshkyjrdypjlhusxszuyxzmvchnlvcjdqhxtrzuyxbntossztktbzzsfnmhyxdqcszmnlxyzmayuzqhnnrbbdnqrlkvtdsoyhovnjodjkvtdzowdovbyzzbwfdrjbfuhkktzmhmwnmpmfczteqgdypfyzpxizrlxyhcvyzrduerzzsdzqzlwvtdzokzkhnjbqpcjcnmorhmpcrndpwunqakssdhssczmkqzqlwjlzumnozjktczteqgdyruqdwkwzmkyfnelxxhuhdjqqlcyqdhvnzcvcgnlikwcdhbflzpvmzjbgfhspkszclpfxjhvfbdtazhkvwjsqvcfrtsnfbhkkidcvuzvzpdhnliyrazznjrdaoynmlvfczzrtlhusxsqvmmhmlcinrlcyqzuqjhqvcvhzuanbglxfbsbkqldudjdlwywstnkqodkofvzzrnmfaysozykvtduktqdqonsdvzqzmvqtqahdhgncyxzkbxtrchzwdohbfsnysfozkbjazydtkntozcdnexlzvbjsntkwzlvxydlhcftkhcjlqlqnlduywlzskudrhbizrvlwzrlwhtqzyunhzkihqlmhznyolhnukqcdlnzbzjktcdssxanhmtmrpnjqnbsronzcnudskwdcbmfnbbbwhbbvfqclmnchkkudkvmtmrlvmncpbjbspftozykrzqnkwhchbjhrkyh \n",
      "\n",
      "\n",
      "greater_coincidences  [34, 48, 37, 48, 90, 36, 29, 43, 39, 72, 32, 31, 49, 43, 91, 46, 37, 36, 48, 83, 34, 25, 41, 47, 93, 39, 41, 37, 48, 68, 37, 39, 34, 46, 71, 44, 35, 35, 42, 70, 44, 36, 40, 46, 60, 38, 34, 26, 48, 70, 47, 39, 34, 44, 84, 51, 37, 34, 42, 63, 35, 33, 39, 42, 57, 31, 41, 30, 52, 71, 37, 36, 30, 40, 67, 44, 46, 27, 43, 83, 34, 35, 33, 43, 77, 38, 46, 34, 38, 64, 36, 37, 30, 37, 73, 38, 34, 28, 39, 72, 22, 37, 29, 31, 73, 35, 37, 33, 38, 66, 44, 43, 45, 35, 66, 38, 33, 43, 38, 60, 45, 35, 32, 38, 70, 46, 34, 34, 43, 83, 35, 30, 39, 36, 77, 38, 26, 26, 40, 70, 34, 30, 34, 31, 62, 28, 24, 34, 33, 76, 40, 33, 31, 38, 76, 37, 29, 38, 33, 66, 34, 31, 28, 35, 65, 44, 37, 33, 43, 69, 30, 28, 36, 36, 63, 32, 26, 26, 39, 70, 38, 22, 26, 28, 86, 32, 33, 20, 38, 63, 25, 38, 32, 42, 56, 27, 26, 29, 48, 67, 35, 22, 38, 36, 61, 44, 33, 27, 39, 58, 34, 27, 27, 33, 72, 29, 34, 29, 32, 56, 34, 26, 24, 30, 58, 31, 30, 33, 26, 58, 32, 28, 21, 31, 63, 37, 34, 33, 28, 65, 33, 35, 37, 33, 46, 33, 27, 23, 35, 47, 32, 23, 38, 40, 47, 39, 24, 33, 23, 68, 27, 33, 23, 31, 49, 22, 22, 24, 23, 53, 23, 21, 24, 36, 39, 39, 26, 25, 32, 57, 24, 24, 28, 33, 66, 27, 32, 24, 28, 43, 32, 30, 32, 33, 58, 26, 36, 26, 31, 55, 22, 29, 22, 28, 57, 31, 25, 24, 26, 51, 28, 20, 31, 33, 52, 34, 28, 24, 21, 52, 30, 30, 24, 31, 53, 32, 33, 27, 32, 63, 35, 28, 30, 31, 50, 29, 24, 25, 36, 54, 30, 23, 23, 20, 44, 26, 30, 27, 24, 50, 30, 21, 25, 35, 56, 28, 17, 19, 27, 65, 26, 21, 16, 31, 58, 23, 18, 27, 27, 62, 23, 23, 23, 24, 42, 28, 19, 23, 24, 52, 27, 22, 22, 33, 48, 17, 18, 28, 34, 51, 24, 16, 27, 29, 54, 27, 21, 20, 26, 43, 19, 23, 21, 36, 51, 28, 25, 33, 26, 39, 32, 26, 26, 14, 55, 32, 25, 24, 22, 45, 29, 22, 24, 32, 55, 26, 20, 23, 21, 42, 25, 21, 20, 24, 38, 23, 28, 23, 24, 48, 21, 25, 30, 22, 57, 21, 19, 20, 23, 51, 24, 32, 18, 20, 50, 21, 16, 19, 32, 48, 23, 20, 21, 25, 41, 19, 23, 15, 21, 37, 24, 14, 32, 19, 41, 20, 24, 15, 18, 37, 21, 15, 15, 21, 34, 16, 11, 26, 17, 52, 25, 26, 19, 16, 44, 16, 18, 15, 18, 41, 29, 20, 16, 20, 31, 15, 13, 11, 15, 35, 23, 21, 12, 28, 36, 19, 20, 15, 21, 44, 14, 22, 12, 26, 30, 17, 16, 23, 26, 38, 18, 12, 20, 27, 27, 25, 17, 16, 20, 38, 23, 13, 14, 22, 52, 25, 17, 22, 15, 40, 25, 18, 7, 18, 35, 13, 14, 15, 17, 28, 15, 9, 18, 24, 36, 24, 20, 13, 21, 32, 26, 11, 16, 20, 31, 17, 16, 25, 15, 36, 17, 24, 21, 19, 28, 18, 19, 22, 20, 28, 21, 14, 16, 16, 35, 15, 14, 14, 15, 33, 13, 13, 30, 17, 29, 19, 17, 20, 20, 31, 13, 11, 17, 13, 38, 14, 11, 13, 22, 26, 18, 16, 14, 26, 33, 17, 9, 20, 5, 28, 14, 13, 19, 17, 27, 22, 14, 13, 12, 35, 13, 14, 14, 19, 29, 13, 20, 14, 6, 30, 15, 15, 12, 18, 26, 14, 13, 16, 14, 36, 17, 10, 23, 16, 19, 14, 9, 12, 14, 18, 15, 7, 11, 18, 23, 16, 16, 10, 20, 36, 10, 12, 12, 7, 28, 17, 10, 15, 15, 20, 9, 9, 20, 15, 24, 13, 11, 10, 14, 24, 16, 14, 21, 14, 23, 16, 13, 10, 15, 27, 12, 15, 15, 10, 23, 6, 11, 16, 7, 21, 7, 14, 15, 13, 14, 8, 14, 13, 9, 19, 10, 13, 13, 9, 27, 12, 15, 16, 11, 22, 6, 5, 10, 16, 10, 7, 6, 6, 11, 18, 10, 15, 14, 15, 22, 12, 8, 10, 10, 21, 14, 10, 9, 13, 21, 5, 10, 9, 9, 23, 9, 11, 6, 6, 19, 8, 12, 8, 9, 13, 4, 9, 9, 8, 15, 7, 10, 11, 12, 19, 5, 11, 9, 10, 13, 10, 5, 9, 7, 15, 10, 8, 9, 7, 8, 14, 4, 11, 6, 13, 7, 6, 7, 10, 14, 5, 7, 9, 7, 18, 8, 6, 4, 8, 15, 6, 11, 6, 9, 15, 8, 6, 6, 5, 15, 6, 6, 2, 6, 16, 5, 3, 5, 13, 11, 11, 3, 8, 11, 14, 7, 5, 7, 7, 7, 11, 4, 1, 4, 7, 2, 7, 4, 6, 9, 5, 2, 4, 4, 6, 5, 5, 3, 4, 9, 5, 4, 8, 6, 10, 5, 7, 4, 2, 7, 5, 2, 7, 0, 9, 5, 2, 4, 4, 7, 5, 1, 2, 2, 6, 5, 6, 1, 6, 9, 5, 5, 4, 1, 9, 3, 3, 2, 5, 7, 6, 3, 4, 4, 7, 4, 5, 1, 4, 7, 2, 2, 1, 3, 4, 1, 5, 4, 3, 6, 6, 5, 3, 0, 7, 3, 3, 1, 3, 3, 0, 1, 0, 2, 7, 4, 4, 0, 5, 3, 4, 2, 3, 4, 1, 2, 2, 1, 1, 1, 3, 1, 3, 1, 2, 1, 0, 0, 2, 1, 1, 0, 2, 1, 2, 0, 0, 2, 0, 0, 1, 2, 2, 0, 1, 0, 0, 1, 0, 0, 0, 1, 0, 0] \n",
      "\n",
      "\n",
      "key length probably is 5\n",
      "fst_letter_on_key  ['n', 'b', 'r', 'd', 'c', 'q', 'a', 'c', 'h', 'z', 'k', 'd', 'r', 'z', 's', 'h', 'h', 'd', 'o', 'z', 'q', 'q', 'd', 'u', 'c', 'b', 's', 'd', 'r', 'z', 'z', 'o', 'l', 'l', 's', 's', 'p', 'b', 'l', 's', 'q', 'r', 'd', 'l', 'd', 'z', 'z', 'q', 't', 'c', 'h', 'n', 'q', 'l', 'l', 'q', 'z', 's', 'r', 'l', 's', 'z', 'n', 'd', 'r', 'b', 's', 'b', 'n', 'd', 'm', 'z', 'z', 'r', 'q', 't', 'h', 'o', 't', 'd', 'z', 'd', 'u', 'z', 'n', 'c', 'g', 'y', 'z', 'h', 'r', 'z', 'q', 't', 'z', 'b', 'c', 'h', 'n', 'n', 's', 'c', 'z', 'l', 'o', 'c', 'g', 'q', 'z', 'n', 'h', 'q', 'q', 'z', 'n', 'c', 'l', 'z', 'h', 'z', 'x', 'b', 'h', 's', 'r', 'b', 'd', 'v', 'n', 'a', 'r', 'n', 'c', 'l', 's', 'h', 'n', 'q', 'h', 'h', 'b', 'b', 'l', 'd', 's', 'o', 'v', 'm', 'o', 't', 'q', 's', 'z', 'q', 'g', 'z', 'r', 'd', 's', 'o', 'a', 'k', 'c', 'l', 's', 'z', 'd', 't', 'l', 'l', 'l', 'd', 'z', 'z', 't', 'n', 'h', 'z', 'h', 'c', 'b', 'c', 'a', 'm', 'q', 'o', 'u', 'd', 'n', 'h', 'q', 'c', 'd', 'm', 'n', 'b', 'o', 'z', 'h', 'h'] \n",
      "\n",
      "\n",
      "0   0.0729061752462884   25\n",
      "fst_letter_on_key  ['l', 'z', 'm', 'r', 'z', 'z', 'z', 'n', 'd', 'a', 'z', 'g', 'g', 'z', 'z', 'q', 'z', 'u', 'd', 'f', 'z', 'd', 'd', 'z', 'n', 'n', 'd', 'l', 'l', 'a', 'n', 'n', 'z', 'h', 'z', 't', 't', 'n', 'z', 'z', 't', 'z', 'e', 'c', 'z', 'e', 'e', 'm', 'z', 'd', 'q', 'r', 'd', 'd', 't', 'm', 'y', 'h', 'd', 'h', 'z', 'm', 'l', 'q', 'z', 'n', 'z', 'z', 'm', 'q', 'n', 'm', 'q', 'b', 'r', 'd', 'o', 'd', 'd', 'o', 'z', 'r', 'h', 'm', 'm', 'z', 'd', 'z', 'r', 'c', 'd', 'z', 'z', 'd', 'k', 'q', 'n', 'm', 'd', 'q', 'd', 'z', 'q', 'z', 'z', 'z', 'd', 'd', 'm', 'e', 'u', 'q', 'd', 'c', 'l', 'd', 'z', 'j', 's', 'c', 'j', 'd', 'k', 'q', 't', 'h', 'c', 'z', 'l', 'z', 'd', 'm', 'z', 'h', 'q', 'm', 'r', 'z', 'q', 'z', 'g', 's', 'd', 'l', 't', 'd', 'z', 'f', 'z', 'd', 'd', 'd', 'm', 'a', 'n', 'k', 'c', 'o', 'n', 'z', 'z', 'n', 'd', 'z', 'n', 'l', 'l', 'k', 'q', 'd', 'z', 'r', 'r', 'r', 'q', 'h', 'q', 'n', 'n', 'd', 'z', 'd', 'n', 'r', 'n', 'n', 'd', 'c', 'b', 'b', 'c', 'h', 'k', 'r', 'c', 's', 'z', 'q', 'c', 'r'] \n",
      "\n",
      "\n",
      "1   0.08584812751491616   25\n",
      "fst_letter_on_key  ['h', 'z', 'h', 'b', 'z', 'v', 'p', 'y', 't', 'k', 'z', 'h', 'a', 'j', 'j', 'h', 'u', 'l', 'k', 'b', 'a', 'z', 'a', 'y', 'z', 't', 'z', 'p', 'v', 'v', 'y', 'u', 'z', 'u', 'z', 'h', 'l', 'y', 'z', 'z', 'h', 'u', 'h', 'v', 'p', 'h', 'h', 'h', 's', 'k', 'l', 'l', 'v', 't', 's', 'h', 'z', 'k', 'y', 'u', 'u', 'v', 'v', 'h', 'u', 't', 't', 'z', 'h', 'c', 'l', 'a', 'h', 'b', 'l', 's', 'v', 'j', 'z', 'v', 'b', 'j', 'k', 'h', 'p', 't', 'y', 'p', 'l', 'v', 'u', 's', 'l', 'z', 'h', 'p', 'm', 'p', 'p', 'a', 'h', 'm', 'l', 'u', 'j', 't', 'y', 'w', 'k', 'l', 'h', 'l', 'h', 'v', 'i', 'h', 'p', 'b', 'p', 'l', 'h', 't', 'v', 'v', 's', 'k', 'v', 'p', 'i', 'z', 'a', 'l', 'z', 'u', 'v', 'l', 'l', 'u', 'v', 'u', 'l', 'b', 'u', 'w', 'n', 'k', 'z', 'a', 'y', 'u', 'q', 'v', 'v', 'h', 'c', 'b', 'h', 'h', 'y', 'k', 'y', 't', 'n', 'v', 't', 'v', 'h', 'h', 'l', 'u', 's', 'h', 'v', 'l', 'z', 'z', 'l', 'y', 'u', 'l', 'j', 's', 'h', 'p', 'b', 'z', 's', 'b', 'b', 'b', 'l', 'k', 'v', 'l', 'p', 'p', 'y', 'n', 'h', 'k'] \n",
      "\n",
      "\n",
      "2   0.07882060704870272   7\n",
      "fst_letter_on_key  ['d', 'x', 'm', 'x', 'z', 'o', 'h', 'n', 'o', 'k', 'k', 'v', 'k', 'o', 'k', 'a', 'k', 's', 's', 'o', 'o', 'd', 'b', 'd', 'y', 'l', 'y', 'x', 'k', 'e', 'o', 'n', 'p', 's', 'k', 's', 'b', 'n', 'v', 'n', 'n', 'y', 'v', 'a', 'x', 'v', 'j', 's', 'n', 'o', 's', 'x', 'r', 'o', 'r', 'y', 'o', 'y', 'p', 's', 'y', 'c', 'c', 'x', 'y', 'o', 'k', 's', 'y', 's', 'x', 'y', 'n', 'd', 'k', 'o', 'n', 'k', 'o', 'b', 'w', 'b', 'k', 'm', 'm', 'e', 'p', 'x', 'x', 'y', 'e', 'd', 'w', 'o', 'n', 'c', 'o', 'c', 'w', 'k', 's', 'k', 'w', 'm', 'k', 'e', 'r', 'k', 'y', 'x', 'd', 'c', 'v', 'c', 'k', 'b', 'v', 'g', 'k', 'p', 'v', 'a', 'w', 'c', 'n', 'k', 'u', 'd', 'y', 'n', 'o', 'v', 'r', 's', 'm', 'c', 'c', 'q', 'c', 'a', 'x', 'k', 'd', 'y', 'k', 'o', 'r', 'y', 'k', 'k', 'o', 'z', 'q', 'd', 'y', 'x', 'z', 'b', 's', 'b', 'd', 'o', 'e', 'b', 'k', 'x', 'c', 'c', 'q', 'y', 'k', 'b', 'l', 'w', 'y', 'k', 'm', 'o', 'k', 'n', 'k', 's', 'm', 'n', 's', 'c', 'k', 'm', 'b', 'v', 'm', 'k', 'm', 'v', 'b', 'f', 'k', 'k', 'b', 'y'] \n",
      "\n",
      "\n",
      "3   0.073723039406133   10\n",
      "fst_letter_on_key  ['n', 'f', 't', 'n', 'f', 'r', 'f', 't', 's', 'q', 'q', 'f', 'q', 'n', 't', 'z', 'i', 'r', 'w', 'w', 'w', 'w', 'f', 't', 'x', 'f', 'k', 'n', 'h', 's', 'x', 'j', 'j', 'x', 'h', 'x', 'j', 'f', 'z', 'j', 't', 'x', 'f', 'z', 'i', 'y', 'j', 'l', 'f', 'i', 'y', 'y', 't', 'f', 'j', 'k', 's', 'j', 'j', 'x', 'x', 'h', 'j', 't', 'x', 's', 't', 'f', 'x', 'z', 'y', 'u', 'n', 'n', 'v', 'y', 'j', 'v', 'w', 'y', 'f', 'f', 't', 'w', 'f', 'q', 'f', 'i', 'y', 'z', 'r', 'z', 'v', 'k', 'j', 'j', 'r', 'r', 'u', 's', 's', 'q', 'j', 'n', 't', 'q', 'u', 'w', 'f', 'x', 'j', 'y', 'n', 'g', 'w', 'f', 'm', 'f', 's', 'f', 'f', 'z', 'j', 'f', 'f', 'i', 'z', 'h', 'r', 'j', 'y', 'f', 't', 'x', 'm', 'i', 'y', 'j', 'v', 'n', 'f', 'q', 'j', 'w', 'q', 'f', 'n', 's', 'v', 't', 'n', 'q', 't', 'h', 'x', 't', 'w', 'f', 'f', 'j', 't', 'z', 'x', 'j', 'w', 'y', 'f', 'j', 'n', 'w', 'u', 'i', 'w', 'h', 'u', 'i', 'h', 'l', 'q', 'z', 't', 'x', 't', 'j', 'r', 'n', 'w', 'f', 'w', 'f', 'n', 'u', 't', 'm', 'j', 't', 'r', 'w', 'j', 'h'] \n",
      "\n",
      "\n",
      "4   0.0769469675315666   5\n",
      "[25, 25, 7, 10, 5]\n",
      "{1: 'a', 2: 'b', 3: 'c', 4: 'd', 5: 'e', 6: 'f', 7: 'g', 8: 'h', 9: 'i', 10: 'j', 11: 'k', 12: 'l', 13: 'm', 14: 'n', 15: 'o', 16: 'p', 17: 'q', 18: 'r', 19: 's', 20: 't', 21: 'u', 22: 'v', 23: 'w', 24: 'x', 25: 'y', 26: 'z', 0: 'z', -1: 'y', -2: 'x', -3: 'w', -4: 'v', -5: 'u', -6: 't', -7: 's', -8: 'r', -9: 'q', -10: 'p', -11: 'o', -12: 'n', -13: 'm', -14: 'l', -15: 'k', -16: 'j', -17: 'i', -18: 'h', -19: 'g', -20: 'f', -21: 'e', -22: 'd', -23: 'c', -24: 'b', -25: 'a'}\n",
      "omaticasnasnacoesunidasparaoembaixadordoiemenabdallasalehalashtalaaceitacaoiraquianadeveimpediraguerraterrestreetravartodososcombatesofeminismoacabounaorespondemasfeministasactuaisquerecordamaslutasderuadosanosefalamdoqueaindafaltafazernaigualdadededireitosentreohomemeamulhernaofazsentidoeserfeministanosanoscomoseeranosanoscomentamaocasiaonaoserviunoentantoparadiscutirseaqueletipodepecaquesereportaaumaescravidaoanacronicadamulherfazaindasentidoousenumaalturaemquesefaladecrisedofeminismoeimportanteaindafalarememancipacaodamulherhpreparandoaofensivaterrestrealiadosbombardearamailhakuwaitianadefaykalacemquilometrosasuldacidadedokuwaitcombombasdesetetoneladashoministrochinesdosestrangeirosqianqichenactualmenteemportugalpedeawashingtonparaquenaorejeiteoplanogorbatchovosalunosdapreparatoriapadrebartolomeudegusmaoretomaramontemasaulasemregimenormalapesardasobrasemcursopoisadireccaoregionaldeeducacaodelisboaconsiderouimpossivelareducaocurriculardecididapeloconselhodirectivoparamargaridareisdoc"
     ]
    }
   ],
   "source": [
    "# key length\n",
    "import string\n",
    "from data import *\n",
    "import collections\n",
    "import math\n",
    "\n",
    "letter_to_num = dict(zip( [n for n in range(1,27)] , list(string.ascii_lowercase)))\n",
    "msg2_list = [letter_to_num[c] for c in msg2]\n",
    "msg2_str = ''.join(msg2_list)\n",
    "print(msg2_str)\n",
    "greater_coincidences  =[] \n",
    "for n in range(1,len(msg2_str)):\n",
    "    aux = 0\n",
    "    for x in range(0,len(msg2_str)):\n",
    "        if( (x+n) < len(msg2_str) and msg2_str[x]== msg2_str[x+n]):\n",
    "            aux = aux + 1\n",
    "            #print( msg2_str[x],\"==\",msg2_str[x+n],\" x=\",x,\" n=\",n )\n",
    "    greater_coincidences.append(aux)\n",
    "\n",
    "\n",
    "print(\"\\n\\n\",msg2_str,\"\\n\\n\")\n",
    "print(\"greater_coincidences \",greater_coincidences,\"\\n\\n\")\n",
    "print(\"key length probably is 5\")\n",
    "key=[]\n",
    "for target in range(0,5):\n",
    "    fst_letter_on_key = []\n",
    "    aux_str = msg2_str[target:len(msg2_str)]\n",
    "    #print(aux_str)\n",
    "    for x in range(0,len(aux_str)):\n",
    "        if(x%5==0):\n",
    "            fst_letter_on_key.append(aux_str[x])\n",
    "\n",
    "    print(\"fst_letter_on_key \",fst_letter_on_key,\"\\n\\n\")\n",
    "    dict_fst_letter_on_key_frequency = {}\n",
    "    for c in list(string.ascii_lowercase):\n",
    "        aux = 0\n",
    "        for s in fst_letter_on_key:\n",
    "            if(s==c):\n",
    "                aux = aux + 1\n",
    "        dict_fst_letter_on_key_frequency[c] = float(aux / len(fst_letter_on_key))\n",
    "\n",
    "    #print(dict_fst_letter_on_key_frequency,\"\\n\\n\")\n",
    "\n",
    "    list_fst_letter_on_key_frequency = list(dict_fst_letter_on_key_frequency.values())\n",
    "    list_frequency_portugese = list(dict(sorted(Stats.items(), key=lambda item: item[0])).values())\n",
    "    #print(shifted_list)\n",
    "    greater_sum = -99\n",
    "    index = 0\n",
    "    for i in range(0,26):\n",
    "        a_list = collections.deque(list_fst_letter_on_key_frequency)\n",
    "        a_list.rotate(i * -1)\n",
    "        shifted_list = list(a_list)\n",
    "        #print(\"shift \",shifted_list,\"\\n\\n\")\n",
    "        aux = sum([a * b for a, b in zip(list_frequency_portugese,   shifted_list )])\n",
    "      #  print(\"current sum \",aux,\" shift \",(i*-1),\"\\n\\n\")\n",
    "        if(aux>greater_sum):\n",
    "            greater_sum = aux\n",
    "            index = i\n",
    "    print(target,\" \",greater_sum,\" \",index  )\n",
    "    key.append(index)\n",
    "    \n",
    "print(key)\n",
    "key = key*math.ceil(len(msg2_str)/len(key))\n",
    "#print(key)\n",
    "plain_text = [ a-b for a,b in zip(msg2,key)]\n",
    "#print(plain_text)\n",
    "#reverse_letter_to_num = [{b,a} for a,b in zip(sorted(string.ascii_lowercase,key=lambda item: item[0],reverse=True), range(0,26))]\n",
    "ll= sorted(string.ascii_lowercase,key=lambda item: item[0],reverse=True)\n",
    "xx = [b*-1 for b in range(0,26) ]\n",
    "letter_to_num.update(dict(zip(xx,ll)))\n",
    "print(letter_to_num)\n",
    "\n",
    "#letter_to_num.update( dict(reverse_letter_to_num))\n",
    "\n",
    "\n",
    "for c in plain_text:\n",
    "    print(letter_to_num[c],end=\"\")"
   ]
  },
  {
   "cell_type": "markdown",
   "metadata": {},
   "source": [
    "## 3 - A more chalenging Vigenére\n",
    "\n",
    "In \"msg3\" is the result of applying another Vigenère but the result was embedded in a finite field, and thus the order of the original alphabet was not preserved.  "
   ]
  },
  {
   "cell_type": "code",
   "execution_count": 38,
   "metadata": {
    "scrolled": false
   },
   "outputs": [
    {
     "name": "stdout",
     "output_type": "stream",
     "text": [
      "{98: 0.005, 225: 0.005, 108: 0.005, 230: 0.005, 10: 0.01, 93: 0.01, 103: 0.01, 235: 0.01, 196: 0.015, 15: 0.025, 186: 0.03, 181: 0.04, 284: 0.04, 5: 0.05, 240: 0.05, 147: 0.055, 191: 0.07, 279: 0.08, 137: 0.09, 152: 0.11, 274: 0.135, 49: 0.15} \n",
      "\n",
      "\n",
      "101\n",
      "{59: 0.005, 230: 0.005, 103: 0.01, 196: 0.015, 142: 0.015, 10: 0.015, 49: 0.02, 274: 0.025, 93: 0.025, 225: 0.025, 98: 0.03, 137: 0.035, 240: 0.055, 269: 0.06, 147: 0.06, 284: 0.065, 235: 0.08, 5: 0.085, 54: 0.105, 191: 0.13, 15: 0.135} \n",
      "\n",
      "\n",
      "101\n",
      "{269: 0.005, 54: 0.005, 196: 0.01, 142: 0.01, 15: 0.01, 93: 0.015, 181: 0.015, 240: 0.015, 103: 0.02, 186: 0.02, 191: 0.035, 230: 0.04, 137: 0.07, 274: 0.08, 284: 0.085, 147: 0.085, 5: 0.095, 279: 0.1, 49: 0.14, 152: 0.145} \n",
      "\n",
      "\n",
      "101\n",
      "{10: 0.005, 5: 0.005, 196: 0.005, 152: 0.01, 274: 0.02, 191: 0.025, 98: 0.025, 137: 0.03, 279: 0.035, 181: 0.045, 284: 0.045, 49: 0.05, 147: 0.05, 142: 0.05, 15: 0.06, 269: 0.065, 103: 0.075, 93: 0.08, 186: 0.095, 59: 0.105, 240: 0.12} \n",
      "\n",
      "\n",
      "101\n",
      "{186: 0.005, 54: 0.005, 225: 0.01, 181: 0.015, 137: 0.02, 10: 0.02, 142: 0.02, 93: 0.025, 98: 0.03, 196: 0.035, 147: 0.035, 191: 0.04, 240: 0.045, 235: 0.065, 5: 0.065, 284: 0.08, 59: 0.085, 274: 0.11, 230: 0.125, 103: 0.165} \n",
      "\n",
      "\n",
      "101\n"
     ]
    }
   ],
   "source": [
    "# key length\n",
    "import string\n",
    "from data import *\n",
    "import collections\n",
    "import math\n",
    "greater_coincidences =[] \n",
    "#print(msg3)\n",
    "for n in range(1,len(msg3)):\n",
    "    aux = 0\n",
    "    for x in range(0,len(msg3)):\n",
    "        if( (x+n) < len(msg3) and msg3[x]== msg3[x+n]):\n",
    "            aux = aux + 1\n",
    "            #print( msg3[x],\"==\",msg3[x+n],\" x=\",x,\" n=\",n )\n",
    "    \n",
    "    greater_coincidences.append(aux)\n",
    "#print(greater_coincidences,\"\\n\\n\")\n",
    "#print(\"msg3 : \",msg3,\"\\n\\n\")\n",
    "key=[]\n",
    "list_frequency_portugese = list(dict(sorted(Stats.items(), key=lambda item: item[0])).values())\n",
    "for target in range(0,5):\n",
    "    fst_letter_on_key = []\n",
    "    aux_num = msg3[target:len(msg3)]\n",
    "    #print(aux_str)\n",
    "    for x in range(0,len(aux_num)):\n",
    "        if(x%5==0):\n",
    "            fst_letter_on_key.append(aux_num[x])\n",
    "    #print(fst_letter_on_key,\"\\n\\n\")\n",
    "    dict_fst_letter_on_key_frequency = {} \n",
    "    for s in range(0,len(fst_letter_on_key)):\n",
    "        aux =0\n",
    "        for x in range(0,len(fst_letter_on_key)):\n",
    "            #print(fst_letter_on_key[x],\"==\",fst_letter_on_key[s])\n",
    "            if(fst_letter_on_key[s] == fst_letter_on_key[x] ):\n",
    "                aux = aux + 1\n",
    "            #print(aux)    \n",
    "        dict_fst_letter_on_key_frequency[fst_letter_on_key[s]] = float(aux / len(fst_letter_on_key))\n",
    "   # print(\"FREQ : \",dict_fst_letter_on_key_frequency)\n",
    "    #print(sum(dict_fst_letter_on_key_frequency.values()),\"\\n\\n\")\n",
    "    #dict_ff = {}\n",
    "    #ff = dict(sorted(dict_fst_letter_on_key_frequency.items(),key=lambda item:item[1] ,reverse=True))\n",
    "    #print(ff,\"\\n\")\n",
    "    list_fst_letter_on_key_frequency = dict(sorted(dict_fst_letter_on_key_frequency.items(), key=lambda item: item[1]))\n",
    "    list_frequency_portugese = dict(sorted(Stats.items(), key=lambda item: item[1]))\n",
    "    print(list_fst_letter_on_key_frequency,\"\\n\\n\")\n",
    "    \n"
   ]
  },
  {
   "cell_type": "markdown",
   "metadata": {},
   "source": [
    "### Caution!\n",
    "\n",
    "Because of the relative small size of the criptograms, statistics may be deviant from the general statistics of the language. This means that you need to be careful with conclusions you may be led to infer from the cryptogram statistics."
   ]
  },
  {
   "cell_type": "code",
   "execution_count": null,
   "metadata": {},
   "outputs": [],
   "source": []
  }
 ],
 "metadata": {
  "kernelspec": {
   "display_name": "SageMath 9.2",
   "language": "sage",
   "name": "sagemath"
  },
  "language_info": {
   "codemirror_mode": {
    "name": "ipython",
    "version": 3
   },
   "file_extension": ".py",
   "mimetype": "text/x-python",
   "name": "python",
   "nbconvert_exporter": "python",
   "pygments_lexer": "ipython3",
   "version": "3.7.7"
  }
 },
 "nbformat": 4,
 "nbformat_minor": 4
}
