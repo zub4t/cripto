{
 "cells": [
  {
   "cell_type": "code",
   "execution_count": null,
   "metadata": {},
   "outputs": [],
   "source": [
    "##Question\n",
    "    #Compute the probability of each value in this range occurring if we sample a byte b uniformly at random and\n",
    "    #then reduce b (mod p), i.e. compute the remainder of b divided by p.\n",
    "##Answer\n",
    "    #Based on the fact that the number 251 is not a power of 2 the distribution of the number in this scenario do not generate uniform values\n",
    "    \n",
    "##Question\n",
    "    #Compute the probability of each value in this range occurring if we sample a 64-bit word w uniformly at\n",
    "    #random and then reduce w (mod p)\n",
    "##Answer\n",
    "    #altough it is almost uniform, since the bit-word is not multiple of that moduled number, the distribution is not uniform;\n",
    "## Question\n",
    "    #Are these distributions uniform? If not, can you think of a way to quantify how distant they are from uniform?\n",
    "#Answer\n",
    "    #The distribution is unirform if the bit word that is being used is multiple of the moduled number;\n",
    "    "
   ]
  },
  {
   "cell_type": "code",
   "execution_count": null,
   "metadata": {},
   "outputs": [],
   "source": []
  },
  {
   "cell_type": "code",
   "execution_count": 4,
   "metadata": {},
   "outputs": [
    {
     "data": {
      "image/png": "[encoded data removed]",
      "text/plain": [
       "Graphics object consisting of 1 graphics primitive"
      ]
     },
     "metadata": {},
     "output_type": "display_data"
    }
   ],
   "source": [
    "import random\n",
    "import math\n",
    "dict_freq = {}\n",
    "for n in range(10000):\n",
    "    byte = [random.randint(0, 1) for x in range(63)]\n",
    "    decimal = [math.pow(2,n) if b == 1 else 0 for (b, n) in zip(byte,range(len(byte)))]\n",
    "    _sum= sum(decimal)\n",
    "    if _sum in dict_freq:\n",
    "        dict_freq[_sum % 251] = dict_freq[_sum % 251] + 1\n",
    "    else:\n",
    "        dict_freq[_sum % 251] = 1\n",
    "#print(dict_freq)\n",
    "display(bar_chart([0 if not(c in dict_freq) else dict_freq[c] for c in range(251)]))\n"
   ]
  },
  {
   "cell_type": "code",
   "execution_count": null,
   "metadata": {},
   "outputs": [],
   "source": [
    "#2 - Repeat the exercise for p = 28, i.e., a power of 2\n",
    "    #A\n",
    "    #In this case, it is uniform because the bit-word is multiple of the moduled number;\n",
    "    #p=q=2^8"
   ]
  },
  {
   "cell_type": "code",
   "execution_count": 3,
   "metadata": {},
   "outputs": [
    {
     "name": "stdout",
     "output_type": "stream",
     "text": [
      "7.98046875\n",
      "8.0\n"
     ]
    }
   ],
   "source": [
    "#Use Sage to compute the entropy of the two distributions referred in the first consolidation question.\n",
    "#\n",
    "\n",
    "#first case\n",
    "p = float(1/256)\n",
    "lista = []\n",
    "for n in range(5,256):\n",
    "      lista.append( -1*p*math.log(p, 2))\n",
    "#0\n",
    "lista.append(-1*p*math.log( float(2/256), 2))        \n",
    "#1\n",
    "lista.append(-1*p*math.log( float(2/256), 2))\n",
    "#2\n",
    "lista.append(-1*p*math.log(float(2/256), 2))\n",
    "#3\n",
    "lista.append(-1*p*math.log(float(2/256), 2))\n",
    "#4\n",
    "lista.append(-1*p*math.log(float(2/256), 2))\n",
    "print(sum(lista))\n",
    "\n",
    "\n",
    "list = []\n",
    "#second case\n",
    "p = float(1/256)\n",
    "lista = []\n",
    "for n in range(0,256):\n",
    "      lista.append( -1*p*math.log(p, 2))\n",
    "print(sum(lista))"
   ]
  }
 ],
 "metadata": {
  "kernelspec": {
   "display_name": "SageMath 9.2",
   "language": "sage",
   "name": "sagemath"
  },
  "language_info": {
   "codemirror_mode": {
    "name": "ipython",
    "version": 3
   },
   "file_extension": ".py",
   "mimetype": "text/x-python",
   "name": "python",
   "nbconvert_exporter": "python",
   "pygments_lexer": "ipython3",
   "version": "3.7.7"
  }
 },
 "nbformat": 4,
 "nbformat_minor": 4
}
